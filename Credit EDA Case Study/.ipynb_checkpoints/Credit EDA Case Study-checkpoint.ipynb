{
 "cells": [
  {
   "cell_type": "markdown",
   "metadata": {},
   "source": [
    "#### NOTE : \n",
    "\n",
    "You'll need to install a couple of libraries before running the below notebook such as plotly, cufflinks etc. for the graphs to render properly without any error. In the last assignment 'IMDB Movie Analysis', I was provided with the feedback to learn more about plotly for data visualization, so tried plotting interactive graphs in the case study using plotly.\n"
   ]
  },
  {
   "cell_type": "code",
   "execution_count": null,
   "metadata": {},
   "outputs": [],
   "source": [
    "# pip install cufflinks\n",
    "# pip install plotly"
   ]
  },
  {
   "cell_type": "markdown",
   "metadata": {},
   "source": [
    "## Importing and setting up the required librarires for analysis"
   ]
  },
  {
   "cell_type": "code",
   "execution_count": null,
   "metadata": {},
   "outputs": [],
   "source": [
    "# Importing  all the important libraries that will be used to to run the entire code below.\n",
    "\n",
    "import pandas as pd\n",
    "import numpy as np\n",
    "import matplotlib.pyplot as plt\n",
    "import seaborn as sns\n",
    "import plotly.express as px\n",
    "from warnings import filterwarnings\n",
    "import cufflinks as cf\n",
    "from plotly.subplots import make_subplots\n",
    "import plotly.graph_objects as go\n",
    "\n",
    "# Setting up cufflinks to connect pandas data frames to plotly\n",
    "\n",
    "cf.go_offline()\n",
    "cf.set_config_file(offline=False, world_readable=True)\n",
    "\n",
    "# Setting up the dispay and warnings settings\n",
    "\n",
    "%matplotlib inline\n",
    "pd.set_option('display.max_columns', 500)\n",
    "pd.set_option('display.max_rows', 500)\n",
    "pd.set_option('display.width', 1000)\n",
    "filterwarnings('ignore')\n",
    "\n",
    "plt.rcParams['axes.facecolor'] = 'white'\n",
    "plt.rcParams['figure.figsize'] = (10.0, 10.0)"
   ]
  },
  {
   "cell_type": "markdown",
   "metadata": {},
   "source": [
    "## Defining methods to avoid repititive code below"
   ]
  },
  {
   "cell_type": "code",
   "execution_count": null,
   "metadata": {},
   "outputs": [],
   "source": [
    "\"\"\"\n",
    "Defining these methods so that we don't have to write the smae piece of code again and again for plotting same charts\n",
    "for different columns and we can simply re-use these functions. Each individual method is documented separately\n",
    "explaining what that method does and all the aparamters are also explained in the doc string for each function.\n",
    "\"\"\" \n",
    "\n",
    "\n",
    "def create_boxplot(data):\n",
    "    \"\"\"\n",
    "    This method is used to create a box plot for the data passed to it as pandas series for analysing numerical columns.\n",
    "    :param data: pandas series (basically a column from a dataframe) for which box plot is to plotted.\n",
    "    \"\"\"\n",
    "    sns.boxplot(data)\n",
    "    plt.show()\n",
    "    \n",
    "def plot_pie_chart(data, column, title):\n",
    "    \"\"\"\n",
    "    This method is used to plot pie charts data passed to it.\n",
    "    :param data: Dataframe for which chart is to plotted.\n",
    "    :param title: Column of dataframe for which chart is to be plotted.\n",
    "    :param title: Title of the pie chart.\n",
    "    \"\"\"\n",
    "    count = data[column].value_counts()\n",
    "    df = pd.DataFrame({'labels': count.index,'values': count.values})\n",
    "    df.iplot(kind='pie',labels='labels',values='values', title=title, hole = 0.5)\n",
    "    \n",
    "def plot_bar_chart_percent(data, column, xtitle, ytitle, title, color):\n",
    "    \"\"\"\n",
    "    This method is used to plot bar chart for data passed to it as paramtere for analysis.\n",
    "    :param data: Data frame used for plotting the chart.\n",
    "    :param column: Column of the dataframe for which bar chart is to be plotted\n",
    "    :param xtitle: Label for x-axis.\n",
    "    :param ytitle: Label for y-axis.\n",
    "    :param title: Title for the bar chart.\n",
    "    :param color: Color of the bars of bar chart.\n",
    "    \"\"\"\n",
    "    df = data[column].value_counts()/len(data) * 100\n",
    "    df.iplot(kind='bar', xTitle=xtitle, yTitle=ytitle, title=title, color=color)\n",
    "    \n",
    "def plot_bar_chart(data, column, xtitle, ytitle, title, color):\n",
    "    \"\"\"\n",
    "    This method is used to plot bar chart for data passed to it as paramtere for analysis.\n",
    "    :param data: Data frame used for plotting the chart.\n",
    "    :param column: Column of the dataframe for which bar chart is to be plotted\n",
    "    :param xtitle: Label for x-axis.\n",
    "    :param ytitle: Label for y-axis.\n",
    "    :param title: Title for the bar chart.\n",
    "    :param color: Color of the bars of bar chart.\n",
    "    \"\"\"\n",
    "    df = data[column].value_counts()\n",
    "    df.iplot(kind='bar', xTitle=xtitle, yTitle=ytitle, title=title, color=color)\n",
    "    \n",
    "def plotunivariate(df, col, title):\n",
    "    \"\"\"\n",
    "    This function is used to plot distribution and boxplot for numerical variables for analysis.\n",
    "    :param data: Dataframe for analysis.\n",
    "    :param column: Column of dataframe for which distribution and boxplots are to be displayed.\n",
    "    \"\"\"\n",
    "    sns.set(style=\"darkgrid\")\n",
    "    fig, ax=plt.subplots(nrows =1,ncols=2,figsize=(20,8))\n",
    "    ax[0].set_title(f'Distribution Plot - {col} for {title}')\n",
    "    sns.distplot(df[~df[col].isna()][col],ax=ax[0], color=\"red\")\n",
    "    plt.yscale('linear')\n",
    "    ax[1].set_title(f'Box Plot - {col} for {title}')\n",
    "    sns.boxplot(data =df, x=col,ax=ax[1],orient='v', color=\"green\")\n",
    "    plt.show()\n",
    "\n",
    "def plotbivariate(df, column, title):\n",
    "    \"\"\"\n",
    "    This function is plot bar chart for the count of entries with payement diffculties for categorical columns and\n",
    "    the percentage(%) of payment diffuculties for each value of the column.\n",
    "    :param df: Datframe to used while plotting the charts.\n",
    "    :param column: Column for which charts are to displyed.\n",
    "    :param title: Title for plot.\n",
    "    \"\"\"\n",
    "    data = df[column].value_counts()\n",
    "    \n",
    "    # Calculate the percentage of target=1 per category value\n",
    "    perc = df[[column, 'TARGET']].groupby([column],as_index=False).mean()\n",
    "    perc.sort_values(by='TARGET', ascending=False, inplace=True)\n",
    "    perc['TARGET'] = perc['TARGET']*100\n",
    "    \n",
    "    fig = make_subplots(rows=1, cols=2,subplot_titles=(\"Count of \"+ title, \"% of Defaulters within each category\"))\n",
    "    \n",
    "    fig.add_trace(go.Bar(x=data.index, y=data.values),row=1, col=1)\n",
    "    fig.add_trace(go.Bar(x=perc[column].to_list(), y=perc['TARGET'].to_list()),row=1, col=2)\n",
    "    fig['layout']['xaxis']['title']=column\n",
    "    fig['layout']['xaxis2']['title']=column\n",
    "    fig['layout']['yaxis']['title']='Count'\n",
    "    fig['layout']['yaxis2']['title']='% of Defaulters'\n",
    "    fig.update_layout(height=500, width=1000, title_text=title, showlegend=False)\n",
    "    fig.show()\n",
    "    \n",
    "def plot_heat_map(data, colorscale, title, index_column, column):\n",
    "    \"\"\"\n",
    "    This method is ued to plot the heatmap for multivariate analysis of categorical features with values as 'TARGET' column.\n",
    "    :param data: Dataframe to be used for extracting the pivot data.\n",
    "    :param colorscale: This defines the color of the heatmap.\n",
    "    :param title: Title for the heatmap chart.\n",
    "    :param index_column: column name to be used as index paramter.\n",
    "    :param column: column name to be used as column paramter.\n",
    "    \"\"\"\n",
    "    pivoted_df = pd.pivot_table(data, values='TARGET', index=index_column, columns=column, aggfunc=np.mean)\n",
    "    sns.heatmap(pivoted_df,annot=True,cmap=colorscale)\n",
    "    plt.title(title,fontsize=20)\n",
    "    \n",
    "def plotly_box_plots(df, y, title):\n",
    "    \"\"\"\n",
    "    This method is used to plot interactive box plots using plotly.\n",
    "    :param df: Dataframe to used.\n",
    "    :param y: Column of the datframe to be plotted on y-axis.\n",
    "    :param title: Title of the chart.\n",
    "    \"\"\"\n",
    "    fig = px.box(df, y=y, title=title)\n",
    "    fig.show()\n",
    "    \n",
    "def print_imputed_values(df, column, mode):\n",
    "    \"\"\"\n",
    "    This method is used to print the values that could be used to impute missing values in multiple columns.\n",
    "    :param df: Application Data frame\n",
    "    :param column: Column for which value is to imputed\n",
    "    :param mode: What statistic should be used mean, median or mode.\n",
    "    \"\"\"\n",
    "    if mode=='median':\n",
    "        print(f'--> For column {column}, the median value - {df[column].median()} can used to impute null values')\n",
    "    if mode=='mean':\n",
    "        print(f'--> For column {column}, the mean value - {df[column].mean()} can used to impute null values')\n",
    "    if mode=='mode':\n",
    "        print(f'--> For column {column}, the mode value - {df[column].mode()[0]} can used to impute null values')   "
   ]
  },
  {
   "cell_type": "markdown",
   "metadata": {},
   "source": [
    "### Loading New Application Data"
   ]
  },
  {
   "cell_type": "code",
   "execution_count": null,
   "metadata": {},
   "outputs": [],
   "source": [
    "# Reading applications data\n",
    "\n",
    "new_application = pd.read_csv('application_data.csv') # 307511 rows and 122 columns loaded"
   ]
  },
  {
   "cell_type": "markdown",
   "metadata": {},
   "source": [
    "#### Inspecting the new_apllication dataframe"
   ]
  },
  {
   "cell_type": "code",
   "execution_count": null,
   "metadata": {},
   "outputs": [],
   "source": [
    "# Checing the first few columns of the dataframe to get a jist of what columns does it have and how does the data look like\n",
    "\n",
    "new_application.head()"
   ]
  },
  {
   "cell_type": "code",
   "execution_count": null,
   "metadata": {},
   "outputs": [],
   "source": [
    "# Checking how many rows and columns does the application data dataframe has\n",
    "\n",
    "new_application.shape"
   ]
  },
  {
   "cell_type": "code",
   "execution_count": null,
   "metadata": {},
   "outputs": [],
   "source": [
    "# Inspecting the information about the dataframe i.e. different columns, datatypes and not-null values for each column.\n",
    "\n",
    "new_application.info(verbose=True, null_counts=True)"
   ]
  },
  {
   "cell_type": "code",
   "execution_count": null,
   "metadata": {},
   "outputs": [],
   "source": [
    "# Describing the dataframe to look at the statistical summary for the numerical columns of the new_application dataframe.\n",
    "\n",
    "new_application.describe()"
   ]
  },
  {
   "cell_type": "markdown",
   "metadata": {},
   "source": [
    "#### Inspecting null columns"
   ]
  },
  {
   "cell_type": "code",
   "execution_count": null,
   "metadata": {},
   "outputs": [],
   "source": [
    "# Cheching the count of null values for each column and arraging the them in the descending order.\n",
    "\n",
    "new_application.isnull().sum().sort_values(ascending=False)"
   ]
  },
  {
   "cell_type": "code",
   "execution_count": null,
   "metadata": {},
   "outputs": [],
   "source": [
    "# Checking the percentage of null values in each column and arrangine them in the descending order.\n",
    "\n",
    "null_value_percentage = (new_application.isnull().mean()*100).sort_values(ascending=False)\n",
    "null_value_percentage"
   ]
  },
  {
   "cell_type": "code",
   "execution_count": null,
   "metadata": {},
   "outputs": [],
   "source": [
    "# Removing the columns with more than 40% null values\n",
    "\n",
    "new_application = new_application.loc[:,null_value_percentage <=40]\n",
    "new_application.shape"
   ]
  },
  {
   "cell_type": "code",
   "execution_count": null,
   "metadata": {},
   "outputs": [],
   "source": [
    "remaining_null_columns = list(new_application.columns[new_application.isnull().mean() > 0])\n",
    "remaining_null_columns"
   ]
  },
  {
   "cell_type": "code",
   "execution_count": null,
   "metadata": {},
   "outputs": [],
   "source": [
    "# Checking the data types of the remaining null columns so that we could take appropriate decision on how to impute these values.\n",
    "\n",
    "new_application[remaining_null_columns].dtypes"
   ]
  },
  {
   "cell_type": "code",
   "execution_count": null,
   "metadata": {},
   "outputs": [],
   "source": [
    "\"\"\"\n",
    "The below mentioned columns are categorical/non-continuous numerical columns, hence we can use the mode value\n",
    "(most frequent value) for each ach column to impute the null values.\n",
    "\n",
    "1) OCCUPATION_TYPE\n",
    "2) AMT_REQ_CREDIT_BUREAU_YEAR\n",
    "3) AMT_REQ_CREDIT_BUREAU_MON\n",
    "4) AMT_REQ_CREDIT_BUREAU_WEEK\n",
    "5) AMT_REQ_CREDIT_BUREAU_DAY\n",
    "6) AMT_REQ_CREDIT_BUREAU_HOUR\n",
    "7) AMT_REQ_CREDIT_BUREAU_QRT\n",
    "8) NAME_TYPE_SUITE\n",
    "\n",
    "However, as mentioned in the problem statement that it's not necesarry to replace the missing values so I've commented\n",
    "the code which would actually repplace the values with the mode values. Instead the uncommented code will actually tell\n",
    "us what values would have been used to replace nulls in each column.\n",
    "\n",
    "\"\"\"\n",
    "\n",
    "# Uncomment the below code if you want to actually replace the missing values in the dataframe.\n",
    "\n",
    "# new_application['OCCUPATION_TYPE'].fillna(new_application['OCCUPATION_TYPE'].mode()[0], inplace=True)\n",
    "# new_application['AMT_REQ_CREDIT_BUREAU_YEAR'].fillna(new_application['AMT_REQ_CREDIT_BUREAU_YEAR'].mode()[0], inplace=True)\n",
    "# new_application['AMT_REQ_CREDIT_BUREAU_MON'].fillna(new_application['AMT_REQ_CREDIT_BUREAU_MON'].mode()[0], inplace=True)\n",
    "# new_application['AMT_REQ_CREDIT_BUREAU_WEEK'].fillna(new_application['AMT_REQ_CREDIT_BUREAU_WEEK'].mode()[0], inplace=True)\n",
    "# new_application['AMT_REQ_CREDIT_BUREAU_DAY'].fillna(new_application['AMT_REQ_CREDIT_BUREAU_DAY'].mode()[0], inplace=True)\n",
    "# new_application['AMT_REQ_CREDIT_BUREAU_HOUR'].fillna(new_application['AMT_REQ_CREDIT_BUREAU_HOUR'].mode()[0], inplace=True)\n",
    "# new_application['AMT_REQ_CREDIT_BUREAU_QRT'].fillna(new_application['AMT_REQ_CREDIT_BUREAU_QRT'].mode()[0], inplace=True)\n",
    "# new_application['NAME_TYPE_SUITE'].fillna(new_application['NAME_TYPE_SUITE'].mode()[0], inplace=True)\n",
    "\n",
    "categorical_columns = ['OCCUPATION_TYPE', 'AMT_REQ_CREDIT_BUREAU_YEAR', 'AMT_REQ_CREDIT_BUREAU_MON',\n",
    "                       'AMT_REQ_CREDIT_BUREAU_WEEK', 'AMT_REQ_CREDIT_BUREAU_DAY', 'AMT_REQ_CREDIT_BUREAU_HOUR',\n",
    "                       'AMT_REQ_CREDIT_BUREAU_QRT', 'NAME_TYPE_SUITE']\n",
    "\n",
    "for column in categorical_columns:\n",
    "    print_imputed_values(new_application, column, 'mode')"
   ]
  },
  {
   "cell_type": "code",
   "execution_count": null,
   "metadata": {
    "scrolled": false
   },
   "outputs": [],
   "source": [
    "\"\"\"\n",
    "Plotting box plots for numerical columns with missing values to take decisions based on below.\n",
    "1) If there are outliers, we'll use median value to impute the missing values.\n",
    "2) if there are no outliers, we'll use the mean value to impute the missing values.\n",
    "\n",
    "\"\"\"\n",
    "# Calling the create_boxplot method defined above to plot the charts to see if outliers are present or not.\n",
    "\n",
    "create_boxplot(new_application['AMT_ANNUITY'])\n",
    "create_boxplot(new_application['AMT_GOODS_PRICE'])\n",
    "create_boxplot(new_application['CNT_FAM_MEMBERS'])\n",
    "create_boxplot(new_application['EXT_SOURCE_2'])\n",
    "create_boxplot(new_application['EXT_SOURCE_3'])\n"
   ]
  },
  {
   "cell_type": "code",
   "execution_count": null,
   "metadata": {},
   "outputs": [],
   "source": [
    "\"\"\"\n",
    "As the below columns have outliers as shown by the boxplots above, 'median' values used to replace null columns:\n",
    "\n",
    "1) AMT_ANNUITY\n",
    "2) AMT_GOODS_PRICE\n",
    "3) CNT_FAM_MEMBERS\n",
    "\n",
    "As the below columns don't have any outliers, 'mean' values used to impute the mising values:\n",
    "\n",
    "1) EXT_SOURCE_2\n",
    "2) EXT_SOURCE_3\n",
    "\n",
    "Commented the code to actually replace the missing values for the same reason as above. Instead printing the median \n",
    "values with which the null values would be replaced if we uncomment the code.\n",
    "\n",
    "\"\"\"\n",
    "\n",
    "# new_application['AMT_ANNUITY'].fillna(new_application['AMT_ANNUITY'].median(), inplace=True)\n",
    "# new_application['AMT_GOODS_PRICE'].fillna(new_application['AMT_GOODS_PRICE'].median(), inplace=True)\n",
    "# new_application['CNT_FAM_MEMBERS'].fillna(new_application['CNT_FAM_MEMBERS'].median(), inplace=True)\n",
    "# new_application['EXT_SOURCE_2'].fillna(round(new_application['EXT_SOURCE_2'].mean(), 2), inplace=True)\n",
    "# new_application['EXT_SOURCE_3'].fillna(round(new_application['EXT_SOURCE_3'].mean(), 2), inplace=True)\n",
    "\n",
    "\n",
    "# Creating a list of columns that should be replaced by median and mean as mentioned above\n",
    "\n",
    "median_columns = ['AMT_ANNUITY', 'AMT_GOODS_PRICE', 'CNT_FAM_MEMBERS']\n",
    "mean_columns = ['EXT_SOURCE_2', 'EXT_SOURCE_3']\n",
    "\n",
    "# Print the values which should be used to replace null values in these columns\n",
    "\n",
    "for column in median_columns:\n",
    "    print_imputed_values(new_application, column, 'median')\n",
    "    \n",
    "for column in mean_columns:\n",
    "    print_imputed_values(new_application, column, 'mean')"
   ]
  },
  {
   "cell_type": "markdown",
   "metadata": {},
   "source": [
    " "
   ]
  },
  {
   "cell_type": "markdown",
   "metadata": {},
   "source": [
    " "
   ]
  },
  {
   "cell_type": "markdown",
   "metadata": {},
   "source": [
    "### Handling data types, data errors and Standardizing :"
   ]
  },
  {
   "cell_type": "markdown",
   "metadata": {},
   "source": [
    " "
   ]
  },
  {
   "cell_type": "code",
   "execution_count": null,
   "metadata": {},
   "outputs": [],
   "source": [
    "# We don't need ID as numeric column so converting it to category\n",
    "\n",
    "new_application.SK_ID_CURR = new_application.SK_ID_CURR.astype('category')"
   ]
  },
  {
   "cell_type": "code",
   "execution_count": null,
   "metadata": {},
   "outputs": [],
   "source": [
    "# Checking the values present in columns starting with 'DAYS'\n",
    "\n",
    "days_col = [col for col in new_application if col.startswith('DAYS')]\n",
    "for column in days_col:\n",
    "    print(f'{column} --> {new_application[column].unique()}')\n"
   ]
  },
  {
   "cell_type": "code",
   "execution_count": null,
   "metadata": {},
   "outputs": [],
   "source": [
    "# As you can see above the days columns have -ve values which should be the case so extracting all the day's colums\n",
    "# below in a list and coverting the values to absolute values.\n",
    "\n",
    "new_application[days_col]= abs(new_application[days_col])\n",
    "\n",
    "days_col = [col for col in new_application if col.startswith('DAYS')]\n",
    "for column in days_col:\n",
    "    print(f'{column} --> {new_application[column].unique()}')"
   ]
  },
  {
   "cell_type": "code",
   "execution_count": null,
   "metadata": {},
   "outputs": [],
   "source": [
    "# After fixing the days column, looking at the summary statistics again.\n",
    "\n",
    "new_application.describe()"
   ]
  },
  {
   "cell_type": "code",
   "execution_count": null,
   "metadata": {},
   "outputs": [],
   "source": [
    "# Checking for values in the 'CODE_GENDER' column.\n",
    "\n",
    "new_application['CODE_GENDER'].value_counts()"
   ]
  },
  {
   "cell_type": "code",
   "execution_count": null,
   "metadata": {},
   "outputs": [],
   "source": [
    "# As the there only 4 values missing in the 'CODE_GENDER' column, so removing the XNA records.\n",
    "\n",
    "new_application = new_application[new_application['CODE_GENDER']!='XNA']\n",
    "new_application['CODE_GENDER'].value_counts()"
   ]
  },
  {
   "cell_type": "code",
   "execution_count": null,
   "metadata": {},
   "outputs": [],
   "source": [
    "# Updating the values of 'CODE_GENDER' columns to Male and Female for beter understanding.\n",
    "\n",
    "new_application['CODE_GENDER'] = np.where(new_application['CODE_GENDER']=='F', 'Female', 'Male')\n",
    "new_application['CODE_GENDER'].value_counts()"
   ]
  },
  {
   "cell_type": "code",
   "execution_count": null,
   "metadata": {},
   "outputs": [],
   "source": [
    "# Checking if there are XNA's in the organization column\n",
    "\n",
    "new_application['ORGANIZATION_TYPE'].value_counts(normalize=True)* 100"
   ]
  },
  {
   "cell_type": "code",
   "execution_count": null,
   "metadata": {},
   "outputs": [],
   "source": [
    "# As there are around 55374 XNA records, so replacing these with NaN.\n",
    "\n",
    "new_application['ORGANIZATION_TYPE'] = new_application['ORGANIZATION_TYPE'].replace('XNA',np.NaN)"
   ]
  },
  {
   "cell_type": "code",
   "execution_count": null,
   "metadata": {},
   "outputs": [],
   "source": [
    "# Converting 'DAYS_BIRTH' to years by diving with 365\n",
    "\n",
    "new_application['DAYS_BIRTH'] = (new_application['DAYS_BIRTH']/365).astype(int)"
   ]
  },
  {
   "cell_type": "code",
   "execution_count": null,
   "metadata": {},
   "outputs": [],
   "source": [
    "# Converting 'DAYS_EMPLOYED' to years and keeping it as float as they can be float values.\n",
    "\n",
    "new_application['DAYS_EMPLOYED'] = (new_application['DAYS_EMPLOYED']/365).astype(float)"
   ]
  },
  {
   "cell_type": "code",
   "execution_count": null,
   "metadata": {},
   "outputs": [],
   "source": [
    "new_application.DAYS_EMPLOYED # people with 1000 as value are retired."
   ]
  },
  {
   "cell_type": "markdown",
   "metadata": {},
   "source": [
    "We will skip the remaining \\*DAYS\\* rows as they seems less important. If necessary will be converted later on."
   ]
  },
  {
   "cell_type": "markdown",
   "metadata": {},
   "source": [
    "### Binning Continuous Columns into Ranges for Analysis\n"
   ]
  },
  {
   "cell_type": "code",
   "execution_count": null,
   "metadata": {},
   "outputs": [],
   "source": [
    "# Binning AMT_INCOME_RANGE based on quantiles to 'VERY_LOW', 'LOW', \"MEDIUM\", 'HIGH', 'VERY_HIGH' labels\n",
    "\n",
    "new_application['AMT_INCOME_RANGE'] = pd.qcut(new_application['AMT_INCOME_TOTAL'], q=[0, 0.2, 0.5, 0.8, 0.95, 1], labels=['VERY_LOW', 'LOW', \"MEDIUM\", 'HIGH', 'VERY_HIGH'])\n",
    "new_application['AMT_INCOME_RANGE'].head(10)"
   ]
  },
  {
   "cell_type": "code",
   "execution_count": null,
   "metadata": {},
   "outputs": [],
   "source": [
    "# Binning AMT_CREDIT_RANGE based on quantiles to 'VERY_LOW', 'LOW', \"MEDIUM\", 'HIGH', 'VERY_HIGH' labels\n",
    "\n",
    "new_application['AMT_CREDIT_RANGE'] = pd.qcut(new_application['AMT_CREDIT'], q=[0, 0.2, 0.5, 0.8, 0.95, 1], labels=['VERY_LOW', 'LOW', \"MEDIUM\", 'HIGH', 'VERY_HIGH'])\n",
    "new_application['AMT_CREDIT_RANGE'].head(10)"
   ]
  },
  {
   "cell_type": "code",
   "execution_count": null,
   "metadata": {},
   "outputs": [],
   "source": [
    "# Binning 'DAYS_BIRTH' to 'Very_Young','Young', 'Middle_Age', 'Senior_Citizen labels based on Age in years \n",
    "\n",
    "new_application['DAYS_BIRTH_RANGE']=pd.cut(new_application['DAYS_BIRTH'], bins=[19,25,35,60,100], labels=['Very_Young','Young', 'Middle_Age', 'Senior_Citizen'])"
   ]
  },
  {
   "cell_type": "markdown",
   "metadata": {},
   "source": [
    " "
   ]
  },
  {
   "cell_type": "markdown",
   "metadata": {},
   "source": [
    "### Analyzing The Application Dataset"
   ]
  },
  {
   "cell_type": "markdown",
   "metadata": {},
   "source": [
    "##### Finding ouliers in the numerical columns"
   ]
  },
  {
   "cell_type": "markdown",
   "metadata": {},
   "source": [
    " "
   ]
  },
  {
   "cell_type": "code",
   "execution_count": null,
   "metadata": {
    "scrolled": true
   },
   "outputs": [],
   "source": [
    "# Finding out only the numeric columns\n",
    "\n",
    "new_application.select_dtypes(include=np.number).count()"
   ]
  },
  {
   "cell_type": "code",
   "execution_count": null,
   "metadata": {},
   "outputs": [],
   "source": [
    "new_application.CNT_CHILDREN.value_counts(normalize=True)*100"
   ]
  },
  {
   "cell_type": "code",
   "execution_count": null,
   "metadata": {
    "scrolled": true
   },
   "outputs": [],
   "source": [
    "# Checking CNT_CHILDERN column.\n",
    "\n",
    "plotly_box_plots(new_application, 'CNT_CHILDREN', 'Box Plot for CNT_CHILDREN')"
   ]
  },
  {
   "cell_type": "markdown",
   "metadata": {},
   "source": [
    "Poeple havig more than 4 children seems rare, hence we will use capping method to handle the outliers."
   ]
  },
  {
   "cell_type": "code",
   "execution_count": null,
   "metadata": {},
   "outputs": [],
   "source": [
    "# Using capping method to handle the outliers.\n",
    "\n",
    "new_application.CNT_CHILDREN = new_application.CNT_CHILDREN.apply(lambda x : 4 if x>=4 else x)\n",
    "new_application.CNT_CHILDREN.value_counts(normalize=True)*100"
   ]
  },
  {
   "cell_type": "code",
   "execution_count": null,
   "metadata": {},
   "outputs": [],
   "source": [
    "# Checking percentages of CNT_FAM_MEMBERS\n",
    "\n",
    "new_application.CNT_FAM_MEMBERS.value_counts(normalize=True)*100"
   ]
  },
  {
   "cell_type": "code",
   "execution_count": null,
   "metadata": {},
   "outputs": [],
   "source": [
    "# We have very less people having family count of more than 6, hence will we cap them to 6.\n",
    "\n",
    "new_application.CNT_FAM_MEMBERS = new_application.CNT_FAM_MEMBERS.apply(lambda x : 6 if x>=6 else x)\n",
    "new_application.CNT_FAM_MEMBERS.value_counts(normalize=True)*100"
   ]
  },
  {
   "cell_type": "code",
   "execution_count": null,
   "metadata": {},
   "outputs": [],
   "source": [
    "# Checking the income attribute for outliers\n",
    "\n",
    "plotly_box_plots(new_application, y='AMT_INCOME_TOTAL', title='Box Plot for AMT_INCOME_TOTAL')"
   ]
  },
  {
   "cell_type": "markdown",
   "metadata": {},
   "source": [
    "From the boxplot of column 'AMT_INCOME_TOTAL'(which describes the total income of the client), we can clearly observe that there are outliers in this column. The upper fence is at 337.5k, medeian at 147.15k and lower fence at 25.65k. The max value of 117M is way higher than rest of the values is surely an outlier. These outliers coul be of importance, so we won't be removing these for now."
   ]
  },
  {
   "cell_type": "code",
   "execution_count": null,
   "metadata": {},
   "outputs": [],
   "source": [
    "# Checking Credit attribute for outliers\n",
    "\n",
    "plotly_box_plots(new_application, y='AMT_CREDIT', title='Box Plot for AMT_CREDIT')"
   ]
  },
  {
   "cell_type": "markdown",
   "metadata": {},
   "source": [
    "Outliers are here as well but in an important attribute hence leaving as it is."
   ]
  },
  {
   "cell_type": "code",
   "execution_count": null,
   "metadata": {},
   "outputs": [],
   "source": [
    "# distribution of 'DAYS_EMPLOYED'\n",
    "\n",
    "sns.set(rc={'figure.figsize':(20,10)})\n",
    "sns.distplot(new_application['DAYS_EMPLOYED'], color=\"#4CB391\" )\n",
    "plt.title('Distribution of DAYS_EMPLOYED', fontdict={'fontsize':20} )\n",
    "plt.show()"
   ]
  },
  {
   "cell_type": "markdown",
   "metadata": {},
   "source": [
    "From the distribution plot of column 'DAYS_EMPLOYED'(which describes how many days before the loan application the applicant has started his/her current job), we can clearly observe that tany values which is greater than 20k is surely an outlier as that applicant's job experience will come around 20000/365 which is close of 55 years and that person would be aged around 76 considering that he/she started working around the age of 22"
   ]
  },
  {
   "cell_type": "code",
   "execution_count": null,
   "metadata": {},
   "outputs": [],
   "source": [
    "# Box plot for DAYS_BIRTH column.\n",
    "\n",
    "plotly_box_plots(new_application, y=\"DAYS_BIRTH\",title='Box Plot for DAYS_BIRTH')"
   ]
  },
  {
   "cell_type": "markdown",
   "metadata": {},
   "source": [
    "From the boxplot of column 'DAYS_BIRTH'(which describes the age of applicant in days), we can see that it doesn't have any outliers. The upper fence is at 69, median at 43 and the loer fence at 20 years."
   ]
  },
  {
   "cell_type": "code",
   "execution_count": null,
   "metadata": {},
   "outputs": [],
   "source": [
    "# Box Plot for of AMT_ANNUITY column\n",
    "\n",
    "plotly_box_plots(new_application, y=\"AMT_ANNUITY\",title='Box Plot for of AMT_ANNUITY')"
   ]
  },
  {
   "cell_type": "markdown",
   "metadata": {},
   "source": [
    "From the boxplot of column 'AMT_ANNUITY'(which describes the loan annuity), we can observe that any values greater than 61.7k (upper fence) is an outlier with the maximum value at 258k which is surely an outlier."
   ]
  },
  {
   "cell_type": "code",
   "execution_count": null,
   "metadata": {},
   "outputs": [],
   "source": [
    "# Box Plot for DAYS_REGISTRATION column.\n",
    "\n",
    "plotly_box_plots(new_application, y=\"DAYS_REGISTRATION\", title='Box Plot for DAYS_REGISTRATION')"
   ]
  },
  {
   "cell_type": "markdown",
   "metadata": {},
   "source": [
    "From the boxplot of column 'DAYS_REGISTRATION' (which describes how many days before the application did client chage his registration), the values greater than 15.68k (upper fence) are outliers with max value at 24.67k which is surely an outlier."
   ]
  },
  {
   "cell_type": "markdown",
   "metadata": {},
   "source": [
    " "
   ]
  },
  {
   "cell_type": "markdown",
   "metadata": {},
   "source": [
    " "
   ]
  },
  {
   "cell_type": "markdown",
   "metadata": {},
   "source": [
    "# Analysis"
   ]
  },
  {
   "cell_type": "markdown",
   "metadata": {},
   "source": [
    " "
   ]
  },
  {
   "cell_type": "markdown",
   "metadata": {},
   "source": [
    "##### Checking Target Imbalance"
   ]
  },
  {
   "cell_type": "code",
   "execution_count": null,
   "metadata": {},
   "outputs": [],
   "source": [
    "# Checking the imabalnce of target variable.\n",
    "\n",
    "plot_pie_chart(new_application,'TARGET','Data Imbalance')"
   ]
  },
  {
   "cell_type": "markdown",
   "metadata": {},
   "source": [
    "From the pie chart above, we can clearly observe that imbalance is very high between the target variables i.e. applicants with no payment difficulties(\\~8%) are way more than applicants with payment difficulties(\\~92%)."
   ]
  },
  {
   "cell_type": "markdown",
   "metadata": {},
   "source": [
    "### Univariate Analysis - Numeric data"
   ]
  },
  {
   "cell_type": "code",
   "execution_count": null,
   "metadata": {
    "scrolled": false
   },
   "outputs": [],
   "source": [
    "# Checking frequency of Count of Children.\n",
    "\n",
    "plot_bar_chart(new_application,'CNT_CHILDREN','No of Children','Count','Frequency of Children','Blue')"
   ]
  },
  {
   "cell_type": "markdown",
   "metadata": {},
   "source": [
    "Maximum number of people applying for loans have no children"
   ]
  },
  {
   "cell_type": "code",
   "execution_count": null,
   "metadata": {},
   "outputs": [],
   "source": [
    "# Checking different numeric columns\n",
    "\n",
    "fig, ax = plt.subplots(2,2,figsize=(20,20))\n",
    "sns.boxplot(data=new_application,y='AMT_INCOME_TOTAL',ax=ax[0][0])\n",
    "sns.boxplot(data=new_application,y='AMT_CREDIT',ax=ax[0][1])\n",
    "sns.boxplot(data=new_application,y='AMT_ANNUITY',ax=ax[1][0])\n",
    "sns.boxplot(data=new_application,y='AMT_GOODS_PRICE',ax=ax[1][1])\n",
    "plt.show()"
   ]
  },
  {
   "cell_type": "markdown",
   "metadata": {},
   "source": [
    "- 50% of people take loans to buy goods between the range of 2,50,000 - 6,80,000\n",
    "- 50% of people have their annuiuty between 15,000 - 35,000"
   ]
  },
  {
   "cell_type": "code",
   "execution_count": null,
   "metadata": {},
   "outputs": [],
   "source": [
    "plt.rcParams['figure.figsize'] = (25.0, 10.0)\n",
    "sns.distplot(new_application.DAYS_BIRTH,color='red')\n",
    "plt.xticks(fontsize=20)\n",
    "plt.yticks(fontsize=20)\n",
    "plt.xlabel('Age',fontsize=20)\n",
    "plt.ylabel('Count',fontsize=20)\n",
    "plt.title('Age Frequency',fontsize=30)\n",
    "plot_bar_chart(new_application,'DAYS_BIRTH_RANGE','AGE','Count','Age Frequency',color='Blue')\n",
    "plt.show()"
   ]
  },
  {
   "cell_type": "markdown",
   "metadata": {},
   "source": [
    "Most of the applicants are middle aged. To be more specific, in middle aged they lie in the range of 35-45."
   ]
  },
  {
   "cell_type": "code",
   "execution_count": null,
   "metadata": {},
   "outputs": [],
   "source": [
    "#Checking Contract type of both the genders\n",
    "\n",
    "sns.countplot(data=new_application,x='NAME_CONTRACT_TYPE',hue='CODE_GENDER',palette=['#21b0ff',\"#ff218c\"])\n",
    "plt.xlabel(\"Contract Type\",fontsize=25)\n",
    "plt.ylabel(\"Count\",fontsize=25)\n",
    "plt.title(\"Frequency of Males-Females based on Contract Type\",fontsize=30)\n",
    "plt.xticks(fontsize=20)\n",
    "plt.yticks(fontsize=20)\n",
    "plt.legend(prop={'size': 20})\n",
    "plt.show()"
   ]
  },
  {
   "cell_type": "code",
   "execution_count": null,
   "metadata": {},
   "outputs": [],
   "source": [
    "#Checking Income Range of both the genders\n",
    "\n",
    "sns.countplot(data=new_application,x='AMT_INCOME_RANGE',hue='CODE_GENDER',palette=['#21b0ff',\"#ff218c\"])\n",
    "plt.xlabel(\"Income Range\",fontsize=25)\n",
    "plt.ylabel(\"Count\",fontsize=25)\n",
    "plt.title(\"Income Range Frequency of Males-Females\",fontsize=30)\n",
    "plt.xticks(fontsize=20)\n",
    "plt.yticks(fontsize=20)\n",
    "plt.legend(prop={'size': 20})\n",
    "plt.show()\n",
    "plot_bar_chart(new_application,'AMT_INCOME_RANGE','Income','Count','Income Frequency',color='Orange')"
   ]
  },
  {
   "cell_type": "markdown",
   "metadata": {},
   "source": [
    "- We have most of the applicants whoes income is medium.\n",
    "- Except for Very High range, Females have more count in all other ranges., this can be because the females are higher in temrs of applications."
   ]
  },
  {
   "cell_type": "code",
   "execution_count": null,
   "metadata": {},
   "outputs": [],
   "source": [
    "# Checking DAYS_EMPLOYED column\n",
    "\n",
    "px.histogram(new_application.DAYS_EMPLOYED)"
   ]
  },
  {
   "cell_type": "markdown",
   "metadata": {},
   "source": [
    "People who are employed for more than 2.5 years and less than 7.5 years have the highest number of applications while 2.5 years marks the second highest rank. Surprisingly people who are retired grabs the third rank amongst the number of applications."
   ]
  },
  {
   "cell_type": "code",
   "execution_count": null,
   "metadata": {},
   "outputs": [],
   "source": [
    "plot_bar_chart(new_application,'CNT_FAM_MEMBERS','Income','Count','Family Members Frequency',color='green')"
   ]
  },
  {
   "cell_type": "markdown",
   "metadata": {},
   "source": [
    "Highest applications come from people who have their family count as 2, probably applicant and his/her partner."
   ]
  },
  {
   "cell_type": "markdown",
   "metadata": {},
   "source": [
    " "
   ]
  },
  {
   "cell_type": "markdown",
   "metadata": {},
   "source": [
    "### Univariate Analysis - Categorical data"
   ]
  },
  {
   "cell_type": "markdown",
   "metadata": {},
   "source": [
    " "
   ]
  },
  {
   "cell_type": "code",
   "execution_count": null,
   "metadata": {},
   "outputs": [],
   "source": [
    "# Extrcating the column names that are categorical\n",
    "new_application.select_dtypes(exclude=np.number).count()"
   ]
  },
  {
   "cell_type": "code",
   "execution_count": null,
   "metadata": {},
   "outputs": [],
   "source": [
    "# Discribution of 'NAME_CONTRACT_TYPE' column\n",
    "\n",
    "plot_pie_chart(new_application,'NAME_CONTRACT_TYPE','Contract Type Distribution')"
   ]
  },
  {
   "cell_type": "markdown",
   "metadata": {},
   "source": [
    "Maximum applicants have cash loan as their contract type"
   ]
  },
  {
   "cell_type": "code",
   "execution_count": null,
   "metadata": {},
   "outputs": [],
   "source": [
    "# Discribution of 'CODE_GENDER' column\n",
    "\n",
    "plot_pie_chart(new_application,'CODE_GENDER','Gender Distribution')"
   ]
  },
  {
   "cell_type": "markdown",
   "metadata": {},
   "source": [
    "Females apply for loan more than that of males."
   ]
  },
  {
   "cell_type": "code",
   "execution_count": null,
   "metadata": {},
   "outputs": [],
   "source": [
    "# Discribution of 'FLAG_OWN_CAR' column\n",
    "\n",
    "plot_pie_chart(new_application,'FLAG_OWN_CAR','Own Car Distribution')"
   ]
  },
  {
   "cell_type": "markdown",
   "metadata": {},
   "source": [
    "66% of the applicants have own a car."
   ]
  },
  {
   "cell_type": "code",
   "execution_count": null,
   "metadata": {},
   "outputs": [],
   "source": [
    "# Discribution of 'FLAG_OWN_REALTY' column\n",
    "\n",
    "plot_pie_chart(new_application,'FLAG_OWN_REALTY','Own Realty Distribution')"
   ]
  },
  {
   "cell_type": "markdown",
   "metadata": {},
   "source": [
    "69% of applicants own some realty."
   ]
  },
  {
   "cell_type": "code",
   "execution_count": null,
   "metadata": {},
   "outputs": [],
   "source": [
    "#Checking Suite Type of both the genders\n",
    "\n",
    "sns.countplot(data=new_application,x='NAME_TYPE_SUITE',hue='CODE_GENDER',palette=['#21b0ff',\"#ff218c\"])\n",
    "plt.xlabel(\"Suite Type\",fontsize=25)\n",
    "plt.ylabel(\"Count\",fontsize=25)\n",
    "plt.title(\"Suite Type Frequency of Males-Females\",fontsize=30)\n",
    "plt.xticks(fontsize=20)\n",
    "plt.yticks(fontsize=20)\n",
    "plt.legend(prop={'size': 20})\n",
    "plt.show()\n",
    "\n",
    "# Analysing NAME_TYPE_SUITE column\n",
    "plot_bar_chart(new_application,'NAME_TYPE_SUITE','Suite Type','Count','Suite Type Frequency',color='gold')"
   ]
  },
  {
   "cell_type": "markdown",
   "metadata": {},
   "source": [
    "Maximum number of applicants are unaccompanied while applying for a loan."
   ]
  },
  {
   "cell_type": "code",
   "execution_count": null,
   "metadata": {},
   "outputs": [],
   "source": [
    "#Checking Income Type of both the genders\n",
    "sns.countplot(data=new_application,x='NAME_INCOME_TYPE',hue='CODE_GENDER',palette=['#21b0ff',\"#ff218c\"])\n",
    "plt.xlabel(\"Income Type\",fontsize=25)\n",
    "plt.ylabel(\"Count\",fontsize=25)\n",
    "plt.title(\"Income Type Frequency of Males-Females\",fontsize=30)\n",
    "plt.xticks(fontsize=20,rotation=45)\n",
    "plt.yticks(fontsize=20)\n",
    "plt.legend(prop={'size': 20})\n",
    "plt.show()\n",
    "\n",
    "# Analysing NAME_INCOME_TYPE column\n",
    "plot_bar_chart(new_application,'NAME_INCOME_TYPE','Income Type','Count','Income Type Frequency',color='darkblue')"
   ]
  },
  {
   "cell_type": "markdown",
   "metadata": {},
   "source": [
    "Working people apply for the loan more than others."
   ]
  },
  {
   "cell_type": "code",
   "execution_count": null,
   "metadata": {},
   "outputs": [],
   "source": [
    "#Checking Education Status of both the genders\n",
    "sns.countplot(data=new_application,x='NAME_EDUCATION_TYPE',hue='CODE_GENDER',palette=['#21b0ff',\"#ff218c\"])\n",
    "plt.xlabel(\"Education Status\",fontsize=25)\n",
    "plt.ylabel(\"Count\",fontsize=25)\n",
    "plt.title(\"Education Status Frequency of Males-Females\",fontsize=30)\n",
    "plt.xticks(fontsize=20,rotation=45)\n",
    "plt.yticks(fontsize=20)\n",
    "plt.legend(prop={'size': 20})\n",
    "plt.show()\n",
    "\n",
    "# Analysing NAME_EDUCATION_TYPE column\n",
    "plot_bar_chart(new_application, 'NAME_EDUCATION_TYPE', 'Education Status', 'Count', 'Education Frequency', 'red')"
   ]
  },
  {
   "cell_type": "markdown",
   "metadata": {},
   "source": [
    "Secondary/Secondary special are the highest among the applicants."
   ]
  },
  {
   "cell_type": "code",
   "execution_count": null,
   "metadata": {},
   "outputs": [],
   "source": [
    "#Checking Family Status of both the genders\n",
    "sns.countplot(data=new_application,x='NAME_FAMILY_STATUS',hue='CODE_GENDER',palette=['#21b0ff',\"#ff218c\"])\n",
    "plt.xlabel(\"Family Status\",fontsize=25)\n",
    "plt.ylabel(\"Count\",fontsize=25)\n",
    "plt.title(\"Family Status Frequency of Males-Females\",fontsize=30)\n",
    "plt.xticks(fontsize=20,rotation=45)\n",
    "plt.yticks(fontsize=20)\n",
    "plt.legend(prop={'size': 20})\n",
    "plt.show()\n",
    "\n",
    "# Analysing NAME_FAMILY_STATUS column\n",
    "plot_bar_chart(new_application, 'NAME_FAMILY_STATUS', 'Family Status', 'Count', 'Family Status Frequency', 'green')"
   ]
  },
  {
   "cell_type": "markdown",
   "metadata": {},
   "source": [
    "- Married people have the highest number of applications.\n",
    "- Widow males apply for loans very less than that of females."
   ]
  },
  {
   "cell_type": "code",
   "execution_count": null,
   "metadata": {},
   "outputs": [],
   "source": [
    "#Checking Housing Type of both the genders\n",
    "sns.countplot(data=new_application,x='NAME_HOUSING_TYPE',hue='CODE_GENDER',palette=['#21b0ff',\"#ff218c\"])\n",
    "plt.xlabel(\"Housing Type\",fontsize=25)\n",
    "plt.ylabel(\"Count\",fontsize=25)\n",
    "plt.title(\"Housing Type Frequency of Males-Females\",fontsize=30)\n",
    "plt.xticks(fontsize=20,rotation=45)\n",
    "plt.yticks(fontsize=20)\n",
    "plt.legend(prop={'size': 20})\n",
    "plt.show()\n",
    "\n",
    "# Analysing NAME_HOUSING_TYPE column\n",
    "plot_bar_chart(new_application, 'NAME_HOUSING_TYPE', 'Housing Type', 'Count', 'Housing Type Frequency', 'brown')"
   ]
  },
  {
   "cell_type": "markdown",
   "metadata": {},
   "source": [
    "People who own House/apartment take the most loans."
   ]
  },
  {
   "cell_type": "code",
   "execution_count": null,
   "metadata": {},
   "outputs": [],
   "source": [
    "#Checking Housing Type of both the genders\n",
    "sns.countplot(data=new_application,x='OCCUPATION_TYPE',hue='CODE_GENDER',palette=['#21b0ff',\"#ff218c\"])\n",
    "plt.xlabel(\"Occupation Type\",fontsize=25)\n",
    "plt.ylabel(\"Count\",fontsize=25)\n",
    "plt.title(\"Occupation Type Frequency of Males-Females\",fontsize=30)\n",
    "plt.xticks(fontsize=20,rotation=90)\n",
    "plt.yticks(fontsize=20)\n",
    "plt.legend(prop={'size': 20})\n",
    "plt.show()\n",
    "\n",
    "# Analysing OCCUPATION_TYPE column\n",
    "plot_bar_chart(new_application, 'OCCUPATION_TYPE', 'Occupation Type', 'Count', 'Occupation Type of Applicants', 'red')"
   ]
  },
  {
   "cell_type": "markdown",
   "metadata": {},
   "source": [
    "From the bar chart above for the column 'OCCUPATION TYPE', we can observe that Laborers, Sales staff and Core staff constitute the majority of the applicants whereas applicants working as Realty agents, HR staff and It staff are on the lower side and constitute a very small portion of applicants pool."
   ]
  },
  {
   "cell_type": "code",
   "execution_count": null,
   "metadata": {},
   "outputs": [],
   "source": [
    "# Distribution of 'ORGANIZATION_TYPE' column\n",
    "\n",
    "plot_bar_chart(new_application, 'ORGANIZATION_TYPE', xtitle = 'Organization Name', ytitle = \"Count\", title = 'Types of organizations of applicant\\'s who applied for loan ', color = 'orange')"
   ]
  },
  {
   "cell_type": "markdown",
   "metadata": {},
   "source": [
    "Business Entity Type 3 and self employed are the highest for applying loans."
   ]
  },
  {
   "cell_type": "markdown",
   "metadata": {},
   "source": [
    " "
   ]
  },
  {
   "cell_type": "markdown",
   "metadata": {},
   "source": [
    "### Uivariate Analysis based on target variable"
   ]
  },
  {
   "cell_type": "markdown",
   "metadata": {},
   "source": [
    " "
   ]
  },
  {
   "cell_type": "code",
   "execution_count": null,
   "metadata": {},
   "outputs": [],
   "source": [
    "# Debing the target population with payment difficulties and and no-payment difficulties in two separate dataframes\n",
    "\n",
    "# Data Frame with clients havinh no-payment difficulties\n",
    "target0 = new_application.loc[new_application['TARGET'] == 0]\n",
    "\n",
    "# Data Frame with clients having payment difficulties.\n",
    "target1 = new_application.loc[new_application['TARGET'] == 1]"
   ]
  },
  {
   "cell_type": "code",
   "execution_count": null,
   "metadata": {},
   "outputs": [],
   "source": [
    "# Checking frequency of Count of Children.\n",
    "plot_bar_chart(target0,\"CNT_CHILDREN\",\"Number of Children\",\"Count\",\"Count of children for people with non defaults\",color='Green')\n",
    "plot_bar_chart(target1,\"CNT_CHILDREN\",\"Number of Children\",\"Count\",\"Count of children for people with defaults\",color='red')"
   ]
  },
  {
   "cell_type": "markdown",
   "metadata": {},
   "source": [
    "No notable difference."
   ]
  },
  {
   "cell_type": "code",
   "execution_count": null,
   "metadata": {
    "scrolled": false
   },
   "outputs": [],
   "source": [
    "# Checking frequency of Age of Defaulters and Non Defaulters.\n",
    "plot_bar_chart(target0,'DAYS_BIRTH_RANGE','AGE','Count','Age Frequency of Non Defaulters',color='Green')\n",
    "plot_bar_chart(target1,'DAYS_BIRTH_RANGE','AGE','Count','Age Frequency of Defaulters',color='Red')\n",
    "sns.distplot(target0.DAYS_BIRTH,color='green')\n",
    "plt.xlabel(\"AGE\",fontsize=25)\n",
    "plt.ylabel(\"Count\",fontsize=25)\n",
    "plt.title(\"Age Frequency of Non-Defaulters\",fontsize=30)\n",
    "plt.xticks(fontsize=20,rotation=0)\n",
    "plt.yticks(fontsize=20)\n",
    "plt.show()\n",
    "sns.distplot(target1.DAYS_BIRTH,color='red')\n",
    "plt.xlabel(\"AGE\",fontsize=25)\n",
    "plt.ylabel(\"Count\",fontsize=25)\n",
    "plt.title(\"Age Frequency of Defaulters\",fontsize=30)\n",
    "plt.xticks(fontsize=20,rotation=0)\n",
    "plt.yticks(fontsize=20)\n",
    "plt.show()"
   ]
  },
  {
   "cell_type": "markdown",
   "metadata": {},
   "source": [
    "Young applicants default more than the other age groups. Also a pattern can be seen here that as the age increases, the possibility of the person defaulting decreases."
   ]
  },
  {
   "cell_type": "code",
   "execution_count": null,
   "metadata": {},
   "outputs": [],
   "source": [
    "# Checking the ranges of income of Defaulters and Non-Defaulters\n",
    "plot_bar_chart(target0,'AMT_INCOME_RANGE','Income','Count','Income Frequency of Non-Defaulters',color='Green')\n",
    "plot_bar_chart(target1,'AMT_INCOME_RANGE','Income','Count','Income Frequency of Defaulters',color='Red')"
   ]
  },
  {
   "cell_type": "markdown",
   "metadata": {},
   "source": [
    "People with very high income defaults less."
   ]
  },
  {
   "cell_type": "code",
   "execution_count": null,
   "metadata": {},
   "outputs": [],
   "source": [
    "# Checking DAYS_EMPLOYED column\n",
    "fig = px.histogram(target0.DAYS_EMPLOYED,title=\"No of Employed Days of Non-Defaulters\")\n",
    "fig.show()\n",
    "px.histogram(target1.DAYS_EMPLOYED,title=\"No of Employed Days of Defaulters\")"
   ]
  },
  {
   "cell_type": "markdown",
   "metadata": {},
   "source": [
    "People who are retired default less."
   ]
  },
  {
   "cell_type": "code",
   "execution_count": null,
   "metadata": {},
   "outputs": [],
   "source": [
    "# Checking CNT_FAM_MEMBERS column for Defaulters and Non-Defaulters\n",
    "plot_bar_chart(target0,'CNT_FAM_MEMBERS','Income','Count','Income Frequency for Non-Defaulters',color='Green')\n",
    "plot_bar_chart(target1,'CNT_FAM_MEMBERS','Income','Count','Income Frequency for Defaulters',color='Red')"
   ]
  },
  {
   "cell_type": "markdown",
   "metadata": {},
   "source": [
    "No Notable difference here."
   ]
  },
  {
   "cell_type": "code",
   "execution_count": null,
   "metadata": {},
   "outputs": [],
   "source": [
    "# Discribution of 'NAME_CONTRACT_TYPE' column for Defaulter and Non-Defaulters\n",
    "plot_pie_chart(target0,'NAME_CONTRACT_TYPE','Contract Type Distribution for Non-Defaulters')\n",
    "plot_pie_chart(target1,'NAME_CONTRACT_TYPE','Contract Type Distribution for Defaulters')"
   ]
  },
  {
   "cell_type": "code",
   "execution_count": null,
   "metadata": {},
   "outputs": [],
   "source": [
    "# Discribution of 'CODE_GENDER' column for Defaulter and Non-Defaulters\n",
    "plot_pie_chart(target0,'CODE_GENDER','Gender Distribution for Non-Defaulters')\n",
    "plot_pie_chart(target1,'CODE_GENDER','Gender Distribution for Defaulters')"
   ]
  },
  {
   "cell_type": "markdown",
   "metadata": {},
   "source": [
    "Males Default more than Females eventhough females apply for loans more."
   ]
  },
  {
   "cell_type": "code",
   "execution_count": null,
   "metadata": {},
   "outputs": [],
   "source": [
    "# Discribution of 'FLAG_OWN_CAR' column for Defaulter and Non-Defaulters\n",
    "plot_pie_chart(target0,'FLAG_OWN_CAR','Own Car Distribution for Non-Defaulters')\n",
    "plot_pie_chart(target1,'FLAG_OWN_CAR','Own Car Distribution for Defaulters')"
   ]
  },
  {
   "cell_type": "markdown",
   "metadata": {},
   "source": [
    "Not much of a difference."
   ]
  },
  {
   "cell_type": "code",
   "execution_count": null,
   "metadata": {},
   "outputs": [],
   "source": [
    "# Discribution of 'FLAG_OWN_REALTY' column for Defaulter and Non-Defaulters\n",
    "plot_pie_chart(target0,'FLAG_OWN_REALTY','Own Realty Distribution for Non-Defaulters')\n",
    "plot_pie_chart(target1,'FLAG_OWN_REALTY','Own Realty Distribution for Defaulters')"
   ]
  },
  {
   "cell_type": "markdown",
   "metadata": {},
   "source": [
    "No notable difference."
   ]
  },
  {
   "cell_type": "code",
   "execution_count": null,
   "metadata": {},
   "outputs": [],
   "source": [
    "# Analysing NAME_TYPE_SUITE column for Defaulters and Non-Defaulters\n",
    "plot_bar_chart(target0,'NAME_TYPE_SUITE','Suite Type','Frequency','Suite Type Frequency for Non-Defaulters',color='Green')\n",
    "plot_bar_chart(target1,'NAME_TYPE_SUITE','Suite Type','Frequency','Suite Type Frequency for Defaulters',color='Red')"
   ]
  },
  {
   "cell_type": "markdown",
   "metadata": {},
   "source": [
    "No Notable Difference."
   ]
  },
  {
   "cell_type": "code",
   "execution_count": null,
   "metadata": {},
   "outputs": [],
   "source": [
    "# Analysing NAME_INCOME_TYPE column\n",
    "plot_bar_chart(target0,'NAME_INCOME_TYPE','Income Type','Frequency','Income Type Frequency for Non-Defaulters',color='Green')\n",
    "plot_bar_chart(target1,'NAME_INCOME_TYPE','Income Type','Frequency','Income Type Frequency for Defaulters',color='Red')"
   ]
  },
  {
   "cell_type": "markdown",
   "metadata": {},
   "source": [
    "###### Students do not default according to the data we have!!"
   ]
  },
  {
   "cell_type": "code",
   "execution_count": null,
   "metadata": {},
   "outputs": [],
   "source": [
    "# Analysing NAME_EDUCATION_TYPE column for Defaulters VS Non-Defaulters\n",
    "plot_bar_chart(target0, 'NAME_EDUCATION_TYPE', 'Education Status', 'Count', 'Education Frequency for Non-Defaulters', 'Green')\n",
    "plot_bar_chart(target1, 'NAME_EDUCATION_TYPE', 'Education Status', 'Count', 'Education Frequency for Defaulters', 'red')"
   ]
  },
  {
   "cell_type": "markdown",
   "metadata": {},
   "source": [
    "Higher Education applicants have a less prabability of defaulting."
   ]
  },
  {
   "cell_type": "code",
   "execution_count": null,
   "metadata": {},
   "outputs": [],
   "source": [
    "# Analysing NAME_FAMILY_STATUS column for Defaulters VS Non-Defaulters\n",
    "plot_bar_chart(target0, 'NAME_FAMILY_STATUS', 'Family Status', 'Count', 'Family Status Frequency for Non-Defaulters', 'Green')\n",
    "plot_bar_chart(target1, 'NAME_FAMILY_STATUS', 'Family Status', 'Count', 'Family Status Frequency for Defaulters', 'Red')"
   ]
  },
  {
   "cell_type": "markdown",
   "metadata": {},
   "source": [
    "Not much of a difference."
   ]
  },
  {
   "cell_type": "code",
   "execution_count": null,
   "metadata": {},
   "outputs": [],
   "source": [
    "# Analysing NAME_HOUSING_TYPE column for Defaulters VS Non-Defaulters\n",
    "plot_bar_chart(target0, 'NAME_HOUSING_TYPE', 'Housing Type', 'Count', 'Housing Type Frequency for Non-Defaulters', 'Green')\n",
    "plot_bar_chart(target1, 'NAME_HOUSING_TYPE', 'Housing Type', 'Count', 'Housing Type Frequency for Defaulters', 'Red')"
   ]
  },
  {
   "cell_type": "markdown",
   "metadata": {},
   "source": [
    "We can see a small peak for defaulters living with parents."
   ]
  },
  {
   "cell_type": "code",
   "execution_count": null,
   "metadata": {},
   "outputs": [],
   "source": [
    "# Analysing OCCUPATION_TYPE column for Defaulters VS Non-Defaulters1\n",
    "plot_bar_chart(target0, 'OCCUPATION_TYPE', 'Occupation Type', 'Count', 'Occupation Type Frequency for Non-Defaulters', 'Green')\n",
    "plot_bar_chart(target1, 'OCCUPATION_TYPE', 'Occupation Type', 'Count', 'Occupation Type Frequency for Defaulters', 'red')"
   ]
  },
  {
   "cell_type": "code",
   "execution_count": null,
   "metadata": {},
   "outputs": [],
   "source": [
    "# Distribution of 'ORGANIZATION_TYPE' column for Defaulters VS Non-Defaulters\n",
    "\n",
    "plot_bar_chart(target0, 'ORGANIZATION_TYPE', xtitle = 'Organization Name', ytitle = \"Count\", title = 'Types of organizations of Non-Defaulters ', color = 'Green')\n",
    "plot_bar_chart(target1, 'ORGANIZATION_TYPE', xtitle = 'Organization Name', ytitle = \"Count\", title = 'Types of organizations of Defaulters ', color = 'Red')"
   ]
  },
  {
   "cell_type": "markdown",
   "metadata": {},
   "source": [
    "We can see shift of positions in Defaulters but not much of a difference."
   ]
  },
  {
   "cell_type": "code",
   "execution_count": null,
   "metadata": {},
   "outputs": [],
   "source": [
    "# Distribution of AMT_INCOME_RANGE Type and the category with maximum Loan-Payment Difficulties\n",
    "\n",
    "plotbivariate(new_application ,'AMT_INCOME_RANGE','Income Range')"
   ]
  },
  {
   "cell_type": "markdown",
   "metadata": {},
   "source": [
    "From the plots above we can say that clients with 'LOW' income range have maximum % of payment difficulties followd by 'MEDIUM' income range although  the count of clients with 'MEDIUM' income range is higher than clients with 'LOW' income range."
   ]
  },
  {
   "cell_type": "code",
   "execution_count": null,
   "metadata": {
    "scrolled": false
   },
   "outputs": [],
   "source": [
    "# Distribution of AMT_INCOME_RANGE Type and the category with maximum Loan-Payment Difficulties\n",
    "\n",
    "plotbivariate(new_application ,'NAME_INCOME_TYPE','Income Type')"
   ]
  },
  {
   "cell_type": "markdown",
   "metadata": {},
   "source": [
    "From the plots above we can say that clients with 'Maternity leave' Income type have maximum % of payment difficulties followed by 'UNEMPLOYED' although the count of both these categories is far less than others."
   ]
  },
  {
   "cell_type": "code",
   "execution_count": null,
   "metadata": {},
   "outputs": [],
   "source": [
    "# Distribution of NAME_CONTRACT_TYPE Type and the category with maximum Loan-Payment Difficulties\n",
    "plotbivariate(new_application ,'NAME_CONTRACT_TYPE','Contract Type')"
   ]
  },
  {
   "cell_type": "markdown",
   "metadata": {},
   "source": [
    "Even though there are less applications of revolving loans yet the number of defaulters is higher in revolving loans when proportion is compared."
   ]
  },
  {
   "cell_type": "code",
   "execution_count": null,
   "metadata": {},
   "outputs": [],
   "source": [
    "# Distribution of Education Type and the category with maximum Loan-Payment Difficulties\n",
    "\n",
    "plotbivariate(new_application ,'NAME_EDUCATION_TYPE','Education Type')"
   ]
  },
  {
   "cell_type": "markdown",
   "metadata": {},
   "source": [
    "From the plot above we can say that clients with 'Lower secondary' education type have maximum % of Loan-Payment Difficulties although it's count is far less than others."
   ]
  },
  {
   "cell_type": "code",
   "execution_count": null,
   "metadata": {},
   "outputs": [],
   "source": [
    "# Distribution of Occupation Type and the category with maximum Loan-Payment Difficulties\n",
    "plotbivariate(new_application ,'OCCUPATION_TYPE','Occupation Type')"
   ]
  },
  {
   "cell_type": "markdown",
   "metadata": {},
   "source": [
    "From the plot above we can say that clients with 'Lower skill Laborers' occupation type have maximum % of payment difficulties."
   ]
  },
  {
   "cell_type": "code",
   "execution_count": null,
   "metadata": {},
   "outputs": [],
   "source": [
    "# Checking defaulter on the combination of gender, income_range and education status\n",
    "\n",
    "income_gender = pd.pivot_table(new_application, values='TARGET', index=['CODE_GENDER','AMT_INCOME_RANGE'],columns=['NAME_EDUCATION_TYPE'], aggfunc=np.mean)\n",
    "income_gender = round(income_gender*100,2)\n",
    "income_gender"
   ]
  },
  {
   "cell_type": "markdown",
   "metadata": {},
   "source": [
    "- From Female category, clients who have LOW income and LOWER SECONDARY education have maximum % (\\~11.4%) of Loan-Payment Difficulties\n",
    "- From Male category, clients wo have MEDIUM income and LOWER SECONDARY education have maximum % (\\~15%) of Loan-Payment Difficulties"
   ]
  },
  {
   "cell_type": "markdown",
   "metadata": {},
   "source": [
    " "
   ]
  },
  {
   "cell_type": "markdown",
   "metadata": {},
   "source": [
    "### Bivariate Analysis : Numeric-Numeric"
   ]
  },
  {
   "cell_type": "markdown",
   "metadata": {},
   "source": [
    " "
   ]
  },
  {
   "cell_type": "code",
   "execution_count": null,
   "metadata": {},
   "outputs": [],
   "source": [
    "plt.scatter(target0.AMT_CREDIT,target0.AMT_ANNUITY,label='Non Defaulters',c='blue')\n",
    "plt.scatter(target1.AMT_CREDIT,target1.AMT_ANNUITY,label='Defaulters',c='red')\n",
    "plt.xlabel('Credit Amount',fontsize=20)\n",
    "plt.ylabel('Annuity',fontsize=20)\n",
    "plt.title('Credit Amount vs Annuity',fontsize=30)\n",
    "plt.xticks(fontsize=20,rotation=90)\n",
    "plt.yticks(fontsize=20)\n",
    "plt.legend(prop={'size': 20})\n",
    "plt.ticklabel_format(useOffset=False, style='plain')\n",
    "plt.show()"
   ]
  },
  {
   "cell_type": "markdown",
   "metadata": {},
   "source": [
    "- It is vividly visible that as the credit amount increases, annuity increases too\n",
    "- Maximum defaulters lie in the lower ranges of credit amount."
   ]
  },
  {
   "cell_type": "code",
   "execution_count": null,
   "metadata": {},
   "outputs": [],
   "source": [
    "plt.scatter(target0.AMT_CREDIT,target0.DAYS_BIRTH,label='Non Defaulters',c='black')\n",
    "plt.scatter(target1.AMT_CREDIT,target1.DAYS_BIRTH,label='Defaulters',c='gold')\n",
    "plt.xlabel('Credit Amount',fontsize=20)\n",
    "plt.ylabel('Age',fontsize=20)\n",
    "plt.title('Credit Amount vs Age',fontsize=30)\n",
    "plt.xticks(fontsize=20)\n",
    "plt.yticks(fontsize=20)\n",
    "plt.legend(prop={'size': 20})\n",
    "plt.ticklabel_format(useOffset=False, style='plain')\n",
    "plt.show()"
   ]
  },
  {
   "cell_type": "markdown",
   "metadata": {},
   "source": [
    "Here also it can be seen that defaulters lie in the lower ranges of credit amount (lower than 1500000) and it is spread throughout the age ranges."
   ]
  },
  {
   "cell_type": "code",
   "execution_count": null,
   "metadata": {},
   "outputs": [],
   "source": [
    "#Pairplot for Target 0 (Loan-Non Payment Difficulties)\n",
    "\n",
    "pair = target0[['AMT_CREDIT', 'AMT_ANNUITY', 'AMT_INCOME_TOTAL', 'AMT_GOODS_PRICE', 'DAYS_BIRTH']].fillna(0)\n",
    "sns.pairplot(pair)\n",
    "plt.show()"
   ]
  },
  {
   "cell_type": "code",
   "execution_count": null,
   "metadata": {},
   "outputs": [],
   "source": [
    "#Pairplot for Target 1 (Loan-Payment Difficulties)\n",
    "\n",
    "pair = target1[['AMT_CREDIT', 'AMT_ANNUITY', 'AMT_INCOME_TOTAL', 'AMT_GOODS_PRICE', 'DAYS_BIRTH']].fillna(0)\n",
    "sns.pairplot(pair)\n",
    "plt.show()"
   ]
  },
  {
   "cell_type": "markdown",
   "metadata": {},
   "source": [
    "- It is obvious to have high coorelation between AMT_CREDIT_PRICE and AMT_GOODS_PRICE as the loan is credited only as much as the price of the good.\n",
    "- It is also obvious to have high coorelation between AMT_GOODS_PRICE/AMT_CREDIT_PRICE and AMT_ANNUITY as higher the loan amount, higher will be the EMI.\n",
    "\n",
    "Same can be visualized on a heatmap:"
   ]
  },
  {
   "cell_type": "code",
   "execution_count": null,
   "metadata": {},
   "outputs": [],
   "source": [
    "# Heatmap for Loan - Non Payment Difficulties\n",
    "sns.heatmap(target0[['AMT_GOODS_PRICE','AMT_INCOME_TOTAL','AMT_ANNUITY','DAYS_EMPLOYED','DAYS_BIRTH',\n",
    "         'DAYS_REGISTRATION', 'DAYS_ID_PUBLISH',\n",
    "         'AMT_CREDIT']].corr(method = 'pearson'),annot=True,cmap=\"Blues\")\n",
    "plt.xticks(rotation=45)\n",
    "plt.title(\"Loan - Without Payment Difficulties\",fontsize=20)\n",
    "plt.show()"
   ]
  },
  {
   "cell_type": "code",
   "execution_count": null,
   "metadata": {},
   "outputs": [],
   "source": [
    "sns.heatmap(target1[['AMT_GOODS_PRICE','AMT_INCOME_TOTAL','AMT_ANNUITY','DAYS_EMPLOYED',\n",
    "  'DAYS_BIRTH', 'DAYS_REGISTRATION', 'DAYS_ID_PUBLISH',\n",
    "  'AMT_CREDIT']].corr(method = 'pearson'),annot=True,cmap=\"Blues\")\n",
    "plt.xticks(rotation=45)\n",
    "plt.title(\"Loan - With Payment Difficulties\",fontsize=20)\n",
    "plt.show()"
   ]
  },
  {
   "cell_type": "markdown",
   "metadata": {},
   "source": [
    "From the heatmaps above, we can observe the smae things as from pair plots above:\n",
    "\n",
    "- 'AMT_ANNUITY' appears to be having a high positive correlation with columns 'AMT_CREDIT' and 'AMT_GOODS_PRICE'.\n",
    "- 'AMT_CREDIT' and 'AMT_GOODS_PRICE' columns also appear to be having a high positive correlation."
   ]
  },
  {
   "cell_type": "code",
   "execution_count": null,
   "metadata": {},
   "outputs": [],
   "source": [
    "# Extracting the top 10 combinations of columns with the highest correlation using pearson value. \n",
    "# Taking the absolute values to while ordering descending order.\n",
    "\n",
    "corr=target1[['AMT_GOODS_PRICE','AMT_INCOME_TOTAL','AMT_ANNUITY','DAYS_EMPLOYED',\n",
    "  'DAYS_BIRTH', 'DAYS_REGISTRATION', 'DAYS_ID_PUBLISH',\n",
    "  'AMT_CREDIT']].corr(method = 'pearson')\n",
    "corr=corr.where(np.triu(np.ones(corr.shape),k=1).astype(np.bool))\n",
    "corr_df=corr.unstack().reset_index()\n",
    "corr_df.columns = ['VAR1','VAR2','CORRELATION']\n",
    "corr_df.dropna(subset=['CORRELATION'],inplace=True)\n",
    "corr_df['CORR_ABS']=corr_df['CORRELATION'].abs()\n",
    "corr_df.sort_values('CORR_ABS', ascending=False).head(10)\n",
    "corr_df.sort_values('CORRELATION', ascending=False).head(10)"
   ]
  },
  {
   "cell_type": "markdown",
   "metadata": {},
   "source": [
    "The above are the top 10 combinations of columns with the highest correlation. Same can visualised using the heatmap below."
   ]
  },
  {
   "cell_type": "code",
   "execution_count": null,
   "metadata": {},
   "outputs": [],
   "source": [
    "sns.heatmap(corr,cmap='rocket_r',square=True,annot=True)\n",
    "plt.show()"
   ]
  },
  {
   "cell_type": "markdown",
   "metadata": {},
   "source": [
    " "
   ]
  },
  {
   "cell_type": "markdown",
   "metadata": {},
   "source": [
    "### Bivariate Analysis : Numeric-Categorical"
   ]
  },
  {
   "cell_type": "markdown",
   "metadata": {},
   "source": [
    " "
   ]
  },
  {
   "cell_type": "code",
   "execution_count": null,
   "metadata": {},
   "outputs": [],
   "source": [
    "# Analysing Income Range VS credit amount\n",
    "fig = px.line(new_application,x=new_application.groupby('AMT_INCOME_RANGE')['AMT_CREDIT'].median().index,\n",
    "        y=[target0.groupby('AMT_INCOME_RANGE')['AMT_CREDIT'].median().values,\n",
    "           target1.groupby('AMT_INCOME_RANGE')['AMT_CREDIT'].median().values],\n",
    "              labels={\"x\":\"Income Range\",\"value\":\"Credit Amount\"},title=\"Income Range vs Credit Amount\")\n",
    "fig.show()\n",
    "fig = px.box(target0,x='AMT_INCOME_RANGE',y='AMT_CREDIT',title=\"Income Range vs Credit Amount for Non-Defaulters\")\n",
    "fig.show()\n",
    "px.box(target1,x='AMT_INCOME_RANGE',y='AMT_CREDIT',title=\"Income Range vs Credit Amount for Defaulters\")"
   ]
  },
  {
   "cell_type": "markdown",
   "metadata": {},
   "source": [
    "It can be seen as the income increases, credit amount also increases. We have a higher slope for Non-Defaulters."
   ]
  },
  {
   "cell_type": "code",
   "execution_count": null,
   "metadata": {},
   "outputs": [],
   "source": [
    "# Overall look for the dataframe for 'NAME_EDUCATION_TYPE' vs 'AMT_CREDIT'\n",
    "fig = px.box(new_application, x=\"NAME_EDUCATION_TYPE\", y=\"AMT_CREDIT\", color='NAME_FAMILY_STATUS',\n",
    "             title=\"Credit amount vs Education of Loan for whole dataframe\")\n",
    "fig.show()\n",
    "\n",
    "# 'NAME_EDUCATION_TYPE' vs 'AMT_CREDIT' for clients with no Payment Difficulties\n",
    "fig = px.box(target0, x=\"NAME_EDUCATION_TYPE\", y=\"AMT_CREDIT\", color='NAME_FAMILY_STATUS',\n",
    "             title=\"Credit amount vs Education of Loan for applicants with no Payment Difficulties\")\n",
    "fig.show()\n",
    "\n",
    "\n",
    "# 'NAME_EDUCATION_TYPE' vs 'AMT_CREDIT' for clients with Payment Difficulties\n",
    "fig = px.box(target1, x=\"NAME_EDUCATION_TYPE\", y=\"AMT_CREDIT\", color='NAME_FAMILY_STATUS',\n",
    "            title=\"Credit amount vs Education for clients with Payment Difficulties\")\n",
    "fig.show()"
   ]
  },
  {
   "cell_type": "markdown",
   "metadata": {},
   "source": [
    "We know, secondary education people and married have the highest number of applications and it can be seen here higher education married people are given higher credit amount.\n",
    "It is intresting to see people with higher education who had credit amount of more than 2.6M do not default.\n",
    "Also for the people with Academic degree, only married people can be seen defaulting. \n",
    "###### So it can be said that people who have academic degree and have status other than married are safe to provide loans."
   ]
  },
  {
   "cell_type": "code",
   "execution_count": null,
   "metadata": {},
   "outputs": [],
   "source": [
    "# Overall look for the dataframe for 'AMT_INCOME_RANGE' vs 'AMT_CREDIT'\n",
    "fig = px.box(new_application, x=\"AMT_INCOME_RANGE\", y=\"AMT_CREDIT\", color='NAME_FAMILY_STATUS',\n",
    "            title=\"AMT_INCOME_RANGE vs AMT_CREDIT for whole Dataframe\")\n",
    "fig.show()\n",
    "\n",
    "# 'AMT_INCOME_RANGE' vs 'AMT_CREDIT' for clients with no Payment Difficulties\n",
    "fig = px.box(target0, x=\"AMT_INCOME_RANGE\", y=\"AMT_CREDIT\", color='NAME_FAMILY_STATUS',\n",
    "            title=\"Income range vs Credit amount for clients with no Payment Difficulties\")\n",
    "fig.show()\n",
    "\n",
    "# 'AMT_INCOME_RANGE' vs 'AMT_CREDIT' for clients with Payment Difficulties\n",
    "fig = px.box(target1, x=\"AMT_INCOME_RANGE\", y=\"AMT_CREDIT\", color='NAME_FAMILY_STATUS',\n",
    "                title=\"Income range vs Credit amount for clients with Payment Difficulties\")\n",
    "\n",
    "fig.show()"
   ]
  },
  {
   "cell_type": "markdown",
   "metadata": {},
   "source": [
    "It can be seen here that the people who have taken credit amount for more than 3M have less probability of defaulting for Medium, High and very high income range."
   ]
  },
  {
   "cell_type": "markdown",
   "metadata": {},
   "source": [
    "### Multivariate Analysis"
   ]
  },
  {
   "cell_type": "markdown",
   "metadata": {},
   "source": [
    " "
   ]
  },
  {
   "cell_type": "code",
   "execution_count": null,
   "metadata": {},
   "outputs": [],
   "source": [
    "# plotting heatmap Gender vs Education with respect to target variable\n",
    "\n",
    "plot_heat_map(new_application, 'Greens', 'Gender and Education Analysis with Target Variable', 'CODE_GENDER', 'NAME_EDUCATION_TYPE')"
   ]
  },
  {
   "cell_type": "markdown",
   "metadata": {},
   "source": [
    "- There is no strong corelation here, however we can see males with lower secondary education have the possibility of defaulting more than any other education type.\n",
    "- It is safe to say that loans can be given to males and females having Academic degree."
   ]
  },
  {
   "cell_type": "code",
   "execution_count": null,
   "metadata": {},
   "outputs": [],
   "source": [
    "# plotting heatmap Gender vs Age group with respect to target variable\n",
    "\n",
    "plot_heat_map(new_application, 'Reds', 'Gender and Age Group Analysis with Target Variable', 'CODE_GENDER', 'DAYS_BIRTH_RANGE')"
   ]
  },
  {
   "cell_type": "markdown",
   "metadata": {},
   "source": [
    "From above heatmap we can observe that for both the genders male and female, clients belonging to 'very young' age group have the highest payment difficulties followed by 'young' age group."
   ]
  },
  {
   "cell_type": "code",
   "execution_count": null,
   "metadata": {},
   "outputs": [],
   "source": [
    "# plotting heatmap Gender vs AMT_INCOME_RANGE with respect to target variable\n",
    "\n",
    "plot_heat_map(new_application, 'Oranges', 'Gender and Income Range Analysis with Target Variable', 'CODE_GENDER', 'AMT_INCOME_RANGE')"
   ]
  },
  {
   "cell_type": "markdown",
   "metadata": {},
   "source": [
    "- Males that have income of medium or less have difficulties in payments. This can be because of low salaries and more responsibilites.\n",
    "- No strong corelation is present"
   ]
  },
  {
   "cell_type": "code",
   "execution_count": null,
   "metadata": {},
   "outputs": [],
   "source": [
    "# plotting heatmap Gender vs OCCUPATION_TYPE with respect to target variable\n",
    "\n",
    "plot_heat_map(new_application, 'Greens', 'Gender and Occupation Analysis with Target Variable', 'CODE_GENDER', 'OCCUPATION_TYPE')"
   ]
  },
  {
   "cell_type": "markdown",
   "metadata": {},
   "source": [
    "- Males who are realty agents and low-skill laborers have high chances of defaulting.\n",
    "- Females who are low-skill laborers have high chance of defaulting."
   ]
  },
  {
   "cell_type": "code",
   "execution_count": null,
   "metadata": {},
   "outputs": [],
   "source": [
    "# plotting heatmap AMT_INCOME_RANGE vs NAME_FAMILY_STATUS with respect to target variable\n",
    "\n",
    "plot_heat_map(new_application, 'Reds', 'Family and Income Range Analysis with Target Variable', 'NAME_FAMILY_STATUS', 'AMT_INCOME_RANGE')"
   ]
  },
  {
   "cell_type": "markdown",
   "metadata": {},
   "source": [
    "- Widow have less chances of defaulting no matter the income ranges than people with other family status."
   ]
  },
  {
   "cell_type": "code",
   "execution_count": null,
   "metadata": {},
   "outputs": [],
   "source": [
    "# plotting heatmap NAME_HOUSING_TYPE vs AMT_INCOME_RANGE with respect to target variable\n",
    "\n",
    "plot_heat_map(new_application, 'Oranges', 'Housing and Income Range Analysis with Target Variable', 'NAME_HOUSING_TYPE', 'AMT_INCOME_RANGE')"
   ]
  },
  {
   "cell_type": "markdown",
   "metadata": {},
   "source": [
    "- People staying with parents or staying in rented apartments with income of medium of less have high chances of defaulting.\n",
    "- People staying in office apartments and have very high income have very less chances of defaulting."
   ]
  },
  {
   "cell_type": "code",
   "execution_count": null,
   "metadata": {},
   "outputs": [],
   "source": [
    "# plotting heatmap OCCUPATION_TYPE vs AMT_INCOME_RANGE with respect to target variable\n",
    "\n",
    "plot_heat_map(new_application, 'rocket_r', 'Ocupation and Income Range Analysis with Target Variable', 'OCCUPATION_TYPE', 'AMT_INCOME_RANGE')"
   ]
  },
  {
   "cell_type": "markdown",
   "metadata": {},
   "source": [
    "From the heatmap above, we can observe that clients working as low-skill laborers with income in all ranges except very high have higher number of payment difficulties when compared to others."
   ]
  },
  {
   "cell_type": "markdown",
   "metadata": {},
   "source": [
    "### Previous Application Dataset Analysis"
   ]
  },
  {
   "cell_type": "code",
   "execution_count": null,
   "metadata": {},
   "outputs": [],
   "source": [
    "# loading the previous_application.csv\n",
    "\n",
    "previous_application = pd.read_csv('previous_application.csv')"
   ]
  },
  {
   "cell_type": "code",
   "execution_count": null,
   "metadata": {},
   "outputs": [],
   "source": [
    "# chnaging the negative values in the columns whose name start with DAYS to positive values.\n",
    "\n",
    "days_col = [col for col in previous_application if col.startswith('DAYS')]\n",
    "previous_application[days_col]= abs(previous_application[days_col])"
   ]
  },
  {
   "cell_type": "code",
   "execution_count": null,
   "metadata": {},
   "outputs": [],
   "source": [
    "previous_application.head()"
   ]
  },
  {
   "cell_type": "code",
   "execution_count": null,
   "metadata": {},
   "outputs": [],
   "source": [
    "# XNA and XAP are replaced by NaN\n",
    "\n",
    "previous_application=previous_application.replace('XNA', np.NaN)\n",
    "previous_application=previous_application.replace('XAP', np.NaN)"
   ]
  },
  {
   "cell_type": "code",
   "execution_count": null,
   "metadata": {},
   "outputs": [],
   "source": [
    "# Value counts of Contract Status in previous application\n",
    "\n",
    "previous_application['NAME_CONTRACT_STATUS'].value_counts()"
   ]
  },
  {
   "cell_type": "markdown",
   "metadata": {},
   "source": [
    "##### Some Univariate Analysis on previous application data"
   ]
  },
  {
   "cell_type": "code",
   "execution_count": null,
   "metadata": {},
   "outputs": [],
   "source": [
    "# Contract status of previous application\n",
    "\n",
    "plot_pie_chart(previous_application, 'NAME_CONTRACT_STATUS', 'Contract status of previous application')"
   ]
  },
  {
   "cell_type": "markdown",
   "metadata": {},
   "source": [
    "From the abve chart, we can observe that majority of loans are approved and very less percentage of loans are tagged as unused offer."
   ]
  },
  {
   "cell_type": "code",
   "execution_count": null,
   "metadata": {},
   "outputs": [],
   "source": [
    "# Payment method that client choose to pay for the previous application\n",
    "\n",
    "plot_pie_chart(previous_application, 'NAME_PAYMENT_TYPE', 'Payment method that client choose to pay for the previous application')"
   ]
  },
  {
   "cell_type": "markdown",
   "metadata": {},
   "source": [
    "From the above chart we can observe that 99% of the clients chose to pay cash through bank."
   ]
  },
  {
   "cell_type": "code",
   "execution_count": null,
   "metadata": {},
   "outputs": [],
   "source": [
    "# Reasons of previous application rejection\n",
    "plot_bar_chart_percent(previous_application, 'CODE_REJECT_REASON', 'Reason', '% of Applications', 'Reasons of previous application rejection', 'red')\n"
   ]
  },
  {
   "cell_type": "markdown",
   "metadata": {},
   "source": [
    "From the above bar chart we can observe that maximum percentage of applications were rejected because of 'HC' code."
   ]
  },
  {
   "cell_type": "code",
   "execution_count": null,
   "metadata": {},
   "outputs": [],
   "source": [
    "# Was the client old or new client when applying for the previous application\n",
    "\n",
    "plot_pie_chart(previous_application, 'NAME_CLIENT_TYPE', 'Was the client old or new client when applying for the previous application')"
   ]
  },
  {
   "cell_type": "markdown",
   "metadata": {},
   "source": [
    "From the abvoe pie chart, we can observe that majority of the clients are repeaters."
   ]
  },
  {
   "cell_type": "code",
   "execution_count": null,
   "metadata": {},
   "outputs": [],
   "source": [
    "# Was the previous application for CASH, POS, CAR, CARDS\n",
    "\n",
    "plot_pie_chart(previous_application, 'NAME_PORTFOLIO', 'Was the previous application for CASH, POS, CAR, CARDS')"
   ]
  },
  {
   "cell_type": "markdown",
   "metadata": {},
   "source": [
    "From the above pie chart, we observe that majority of previous application is for POS and a good amount of it is for Cash."
   ]
  },
  {
   "cell_type": "code",
   "execution_count": null,
   "metadata": {},
   "outputs": [],
   "source": [
    "# What kind of goods did the client apply for in the previous application\n",
    "\n",
    "plot_bar_chart_percent(previous_application, 'NAME_GOODS_CATEGORY', 'GOODS CATEGORY', '% of Each Category', 'What kind of goods did the client apply for in the previous application', 'orange')"
   ]
  },
  {
   "cell_type": "markdown",
   "metadata": {},
   "source": [
    "From the above bar chart, we observe that maximum number of applications are for mobiles, followed by Consumer Electronics and Computers."
   ]
  },
  {
   "cell_type": "markdown",
   "metadata": {},
   "source": [
    "##### Univaritae Analysis of Numerical Columns"
   ]
  },
  {
   "cell_type": "code",
   "execution_count": null,
   "metadata": {},
   "outputs": [],
   "source": [
    "plotunivariate(previous_application,'AMT_ANNUITY', 'previous applications')"
   ]
  },
  {
   "cell_type": "code",
   "execution_count": null,
   "metadata": {},
   "outputs": [],
   "source": [
    "plotunivariate(previous_application,'AMT_CREDIT','previous applications')"
   ]
  },
  {
   "cell_type": "code",
   "execution_count": null,
   "metadata": {},
   "outputs": [],
   "source": [
    "plotunivariate(previous_application,'AMT_GOODS_PRICE', 'previous applications')"
   ]
  },
  {
   "cell_type": "markdown",
   "metadata": {},
   "source": [
    "From the distribution and box plots for the columns 'AMT_GOODS_PRICE', 'AMT_CREDIT' and 'AMT_ANNUITY' above we can observe similar things. The outliers are present in all the three columns and the distribution plot is not a normal/bell curve and is right-skewed."
   ]
  },
  {
   "cell_type": "markdown",
   "metadata": {},
   "source": [
    "##### Combining the previous application data with applicaton data and performing some analysis."
   ]
  },
  {
   "cell_type": "code",
   "execution_count": null,
   "metadata": {},
   "outputs": [],
   "source": [
    "# Taking SK_ID_CURR and TARGET column from application data for further analysis\n",
    "\n",
    "sk_id_new=new_application[['SK_ID_CURR','TARGET']]\n",
    "sk_id_new"
   ]
  },
  {
   "cell_type": "code",
   "execution_count": null,
   "metadata": {},
   "outputs": [],
   "source": [
    "merged_df = sk_id_new.merge(previous_application, on='SK_ID_CURR', how='inner')\n",
    "merged_df"
   ]
  },
  {
   "cell_type": "code",
   "execution_count": null,
   "metadata": {},
   "outputs": [],
   "source": [
    "# Distribution of Contract Status and its category with maximum % of Loan-Payment Difficulties\n",
    "\n",
    "plotbivariate(merged_df,'NAME_CONTRACT_STATUS', 'CONTRACT STATUS')"
   ]
  },
  {
   "cell_type": "markdown",
   "metadata": {},
   "source": [
    "From the first graph it can be seen that most of the contracts from previous application have been Approved.\n",
    "\n",
    "It can be clearly seen from the second graph that:\n",
    "\n",
    "- 'Refused' contracts from previous application are the ones who have maximum % of Loan-Payment Difficulties from current application.\n",
    "- 'Approved' contracts from previous application are the ones who have minimum % of Loan-Payment Difficulties from current application.\n"
   ]
  },
  {
   "cell_type": "code",
   "execution_count": null,
   "metadata": {},
   "outputs": [],
   "source": [
    "# Distribution of Contract Status and its category with maximum % of Loan-Payment Difficulties \n",
    "\n",
    "plotbivariate(merged_df,'NAME_CONTRACT_TYPE', 'CONTRACT TYPE')"
   ]
  },
  {
   "cell_type": "markdown",
   "metadata": {},
   "source": [
    "From the first graph it can be seen that most of the contract types from previous application were 'Cash loans'\n",
    "\n",
    "It can be clearly seen from the second graph that:\n",
    "\n",
    "- 'Revolving Loans' contracts from previous application are the ones who have maximum % of Loan-Payment Difficulties from current application.\n",
    "- 'Consumer loans' contracts from previous application are the ones who have minimum % of Loan-Payment Difficulties from current application."
   ]
  },
  {
   "cell_type": "code",
   "execution_count": null,
   "metadata": {},
   "outputs": [],
   "source": [
    "# Distribution of Payment Type and its category with maximum % of Loan-Payment Difficulties\n",
    "plotbivariate(merged_df,'NAME_PAYMENT_TYPE', 'PAYMENT TYPE')"
   ]
  },
  {
   "cell_type": "markdown",
   "metadata": {},
   "source": [
    "- From the first graph it can be seen that most of the payment types from previous application were 'Cash through bank'.\n",
    "- It can be clearly seen from the second graph that all three types of payments from the previous application have almost same % of Loan-Payment Difficulties from current application."
   ]
  },
  {
   "cell_type": "code",
   "execution_count": null,
   "metadata": {},
   "outputs": [],
   "source": [
    "# Distribution of Client Type and its category with maximum % of Loan-Payment Difficulties \n",
    "plotbivariate(merged_df ,'NAME_CLIENT_TYPE', 'CLIENT TYPE')"
   ]
  },
  {
   "cell_type": "markdown",
   "metadata": {},
   "source": [
    "From the first graph it can be seen that most of the clients from previous application are 'Repeater'.\n",
    "\n",
    "It can be clearly seen from the second graph that:\n",
    "\n",
    "- 'New' clients from previous application are the ones who have maximum % of Loan-Payment Difficulties from current application.\n",
    "- 'Refreshed' clients from previous application are the ones who have minimum % of Loan-Payment Difficulties from current application."
   ]
  },
  {
   "cell_type": "code",
   "execution_count": null,
   "metadata": {},
   "outputs": [],
   "source": [
    "# Distribution of Cash Loan Purpose and its category with maximum % of Loan-Payment Difficulties \n",
    "plotbivariate(merged_df,'NAME_CASH_LOAN_PURPOSE', 'CASH LOAN PURPOSE')"
   ]
  },
  {
   "cell_type": "markdown",
   "metadata": {},
   "source": [
    "- From the first graph it can be seen that purpose of cash loan from previous data was maximum for 'Repairs'\n",
    "- It can be clearly seen from the second graph that the 'Refusal to name the goal' for cash loan from previous application are the ones who have maximum % of Loan-Payment Difficulties from current application."
   ]
  },
  {
   "cell_type": "code",
   "execution_count": null,
   "metadata": {},
   "outputs": [],
   "source": [
    "# Payament Difficulties for client types and contract statuses.\n",
    "\n",
    "pivoted_df = pd.pivot_table(merged_df, values='TARGET', index=['NAME_CLIENT_TYPE'],columns=['NAME_CONTRACT_STATUS'], aggfunc=np.mean)\n",
    "pivoted_df.T.plot(kind='bar')\n",
    "plt.title('% of Loan Payment Difficulties for NAME_CONTRACT_STATUS and NAME_CLIENT_TYPE', fontdict={'fontsize':15})\n",
    "plt.ylabel('% of Loan-Payment Difficulties')\n",
    "plt.show()"
   ]
  },
  {
   "cell_type": "markdown",
   "metadata": {},
   "source": [
    "It can be observed from the above graph that Client who where 'New' and had 'Cancelled' previous application tend to have more % of Loan-Payment Difficulties in current application."
   ]
  },
  {
   "cell_type": "code",
   "execution_count": null,
   "metadata": {},
   "outputs": [],
   "source": [
    "# Payament Difficulties for contract types and contract statuses.\n",
    "\n",
    "pivoted_df = pd.pivot_table(merged_df, values='TARGET', index=['NAME_CONTRACT_TYPE'],columns=['NAME_CONTRACT_STATUS'], aggfunc=np.mean)\n",
    "pivoted_df.T.plot(kind='bar')\n",
    "plt.title('% of Loan Payment Difficulties for NAME_CONTRACT_STATUS and NAME_CONTRACT_TYPE', fontdict={'fontsize':15})\n",
    "plt.ylabel('% of Loan-Payment Difficulties')\n",
    "plt.show()"
   ]
  },
  {
   "cell_type": "markdown",
   "metadata": {},
   "source": [
    "It can be observed from the above graph that Clients with 'Revolving loans' and with 'Refused' previous application tend to have more % of Loan-Payment Difficulties in current application."
   ]
  },
  {
   "cell_type": "markdown",
   "metadata": {},
   "source": [
    "### Major Insights"
   ]
  },
  {
   "cell_type": "markdown",
   "metadata": {},
   "source": [
    "##### Application Dataset"
   ]
  },
  {
   "cell_type": "markdown",
   "metadata": {},
   "source": [
    "- The count of ‘Maternity Leave’ in ‘NAME_INCOME_TYPE’ is very less and it also has maximum % of payment difficulties- around 40%. Hence, client with income type as ‘Maternity leave’ are the driving factors for Loan Defaulters.\n",
    "- The count of ‘Low skilled Laborers’ in ‘OCCUPATION_TYPE’ is comparatively very less and it also has maximum % of payment difficulties- around 17%. Hence, client with occupation type as ‘Low skilled Laborers’ are the driving factors for Loan Defaulters.\n",
    "- The count of ‘Lower Secondary’ in ‘NAME_EDUCATION_TYPE’ is comparatively very less and it also has maximum % of payment difficulties- around 11%. Hence, client with education type as ‘Lower Secondary’ are the driving factors for Loan Defaulters."
   ]
  },
  {
   "cell_type": "markdown",
   "metadata": {},
   "source": [
    "##### Previous Application Dataset"
   ]
  },
  {
   "cell_type": "markdown",
   "metadata": {},
   "source": [
    "- The count of ‘Refusal to name the goal’ in ‘NAME_CASH_LOAN_PURPOSE’ is comparatively very less and it also has maximum % of payment difficulties- around 23%. Hence, clients who have ‘Refused to name the goal’ for cash loan in previous application are the driving factors for Loan Defaulters.\n",
    "\n",
    "- The count of ‘Refused’ in ‘NAME_CONTRACT_STATUS’ is comparatively less and it also has maximum % of payment difficulties- around 12%. Hence, client with contract status as ‘Refused’ in previous application are the driving factors for Loan Defaulters.\n",
    "\n",
    "- The count of ‘Revolving Loans’ in ‘NAME_CONTRACT_TYPE’ is comparatively very less and it also has maximum % of payment difficulties- around 10%. Hence, client with contract type as ‘Revolving loans’ in previous application are the driving factors for Loan Defaulters.\n",
    "\n",
    "- Clients with 'Revolving loans' and with 'Refused' previous application tend to have more % of payment difficulties in current application. Since the count of both 'Revolving loans' and ‘Refused’ is comparatively less(from the graphs in previous slide), clients with ‘Revolving Loans’ and ‘Refused’ previous application are driving factors for Loan Defaulters."
   ]
  }
 ],
 "metadata": {
  "kernelspec": {
   "display_name": "Python 3",
   "language": "python",
   "name": "python3"
  },
  "language_info": {
   "codemirror_mode": {
    "name": "ipython",
    "version": 3
   },
   "file_extension": ".py",
   "mimetype": "text/x-python",
   "name": "python",
   "nbconvert_exporter": "python",
   "pygments_lexer": "ipython3",
   "version": "3.8.8"
  }
 },
 "nbformat": 4,
 "nbformat_minor": 4
}
